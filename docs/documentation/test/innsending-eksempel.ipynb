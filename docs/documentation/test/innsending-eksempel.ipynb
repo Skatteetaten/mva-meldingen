{
 "cells": [
  {
   "cell_type": "markdown",
   "metadata": {},
   "source": [
    "# <font color=red>Innsending av mva-melding til altinn3</font>\n",
    "\n",
    "Test-script for å laste opp en mva-melding til altinn3-appen på tt02 miljøet i Altinn Studio."
   ]
  },
  {
   "cell_type": "markdown",
   "metadata": {},
   "source": [
    "## <font color=red>Sjekke at du har installert de nødvendige bibliotekene.</font>"
   ]
  },
  {
   "cell_type": "code",
   "execution_count": null,
   "metadata": {},
   "outputs": [],
   "source": [
    "try:\n",
    "    import requests\n",
    "    import base64\n",
    "    import xmltodict\n",
    "    import xml.dom.minidom\n",
    "    from Steg import load_xml_files, get_altinntoken, get_instance, upload_vatreturnfiling, upload_vatreturn\n",
    "    from Steg import upload_attachment, log_in_idporten, update_process, create_instance, delete_attachment\n",
    "    from Steg.FilingServices import Environment, LoginMethod, printing, App\n",
    "    from Steg.validation import validate_vat_return, validate_example_file\n",
    "except ImportError as e:\n",
    "    try:\n",
    "        print(\"Mangler en avhengighet, installer dem via pip\")\n",
    "        !pip install python-jose[cryptography] cryptography\n",
    "        !pip install xmltodict\n",
    "        !pip install requests\n",
    "        import xmltodict\n",
    "        import requests\n",
    "        from Steg import load_xml_files, get_altinntoken, get_instance, upload_vatreturnfiling, upload_vatreturn\n",
    "        from Steg import upload_attachment, log_in_idporten, update_process, create_instance, delete_attachment\n",
    "        from Steg.FilingServices import Environment, LoginMethod, printing, App\n",
    "        from Steg.validation import validate_vat_return, validate_example_file\n",
    "    except ImportError as err:\n",
    "        print(\"Mangler en avhengighet, installer dem via pip\")\n",
    "        !python3 -m pip install python-jose[cryptography] cryptography\n",
    "        !python3 -m pip install 'python-jose[cryptography]'\n",
    "        !python3 -m pip install xmltodict\n",
    "        !python3 -m pip install requests\n",
    "        import xmltodict\n",
    "        import requests\n",
    "        from Steg import load_xml_files, get_altinntoken, get_instance, upload_vatreturnfiling, upload_vatreturn\n",
    "        from Steg import upload_attachment, log_in_idporten, update_process, create_instance, delete_attachment\n",
    "        from Steg.FilingServices import Environment, LoginMethod, printing, App\n",
    "        from Steg.validation import validate_vat_return, validate_example_file"
   ]
  },
  {
   "cell_type": "markdown",
   "metadata": {},
   "source": [
    "## <font color=red>Definere variabler</font>"
   ]
  },
  {
   "cell_type": "code",
   "execution_count": null,
   "metadata": {
    "pycharm": {
     "name": "#%%\n"
    }
   },
   "outputs": [],
   "source": [
    "slette_forrige_vedlegg = False  # Hvis man vil slette et vedlegg man har sendt inn ved feil.\n",
    "validere = True  # Hvis man vil kjøre gjennom valideringen.\n",
    "\n",
    "# Trenger ikke å gjøre noe med.\n",
    "miljo = Environment.tt02  # tt02\n",
    "innloggings_metode = LoginMethod.idporten  # idporten\n",
    "domene = miljo.value  # Domenet til appen på Altinn Studio\n",
    "app = App.ETM2.value  # Hvilken app repository som kjøres\n",
    "\n",
    "# Fil navn på MvaMeldingInnsending (\"konvolutt\") mvamelding som ønskes å lastes opp.\n",
    "# Må ligge i ./eksempler/konvolutt/ og ./eksempler/melding/\n",
    "MvaMeldingInnsending_filnavn = \"mvakonvolutt1.xml\"\n",
    "mvamelding_filnavn = \"mvakode3.xml\"\n",
    "\n",
    "# Legg inn org_nummer du ønsker å sende inn for.\n",
    "# Merk at personen som skal sende inn må ha nødvendig roller/rettigheter i altinn studio appen, for å få lov til å sende inn.\n",
    "# org_nummer må være det samme som org_nummeret i MvaMeldingInnsending (\"konvolutt\") og mvamelding .xml filene\n",
    "org_nummer = \"123456789\""
   ]
  },
  {
   "cell_type": "markdown",
   "metadata": {},
   "source": [
    "## <font color=red>Definere MvaMelding og MvaMeldingInnsending.</font>"
   ]
  },
  {
   "cell_type": "code",
   "execution_count": null,
   "metadata": {
    "pycharm": {
     "name": "#%%\n"
    }
   },
   "outputs": [],
   "source": [
    "melding_xml, konvolutt_xml = load_xml_files.get(MvaMeldingInnsending_filnavn, mvamelding_filnavn)"
   ]
  },
  {
   "cell_type": "markdown",
   "metadata": {},
   "source": [
    "## <font color=red>Generer ID-porten token</font>\n",
    "Tokenet er gyldig i 300 sekunder, rekjør denne biten om du ikke har kommet frem til altinntoken innen den tid."
   ]
  },
  {
   "cell_type": "code",
   "execution_count": null,
   "metadata": {
    "scrolled": true
   },
   "outputs": [],
   "source": [
    "header = log_in_idporten.get_idtoken()"
   ]
  },
  {
   "cell_type": "markdown",
   "source": [
    "## <font color=red>Valider meldingen(Valgfritt)</font>"
   ],
   "metadata": {
    "collapsed": false,
    "pycharm": {
     "name": "#%% md\n"
    }
   }
  },
  {
   "cell_type": "code",
   "execution_count": null,
   "outputs": [],
   "source": [
    "if validere:\n",
    "  validering = validate_vat_return(dict(header), xml=melding_xml)"
   ],
   "metadata": {
    "collapsed": false,
    "pycharm": {
     "name": "#%%\n"
    }
   }
  },
  {
   "cell_type": "markdown",
   "metadata": {},
   "source": [
    "## <font color=red>Hente AltinnToken</font>"
   ]
  },
  {
   "cell_type": "code",
   "execution_count": null,
   "metadata": {
    "scrolled": true
   },
   "outputs": [],
   "source": [
    "altinn_token = get_altinntoken.get(header)"
   ]
  },
  {
   "cell_type": "markdown",
   "metadata": {
    "pycharm": {
     "name": "#%% md\n"
    }
   },
   "source": [
    "## <font color=red>Opprett ny instans</font>"
   ]
  },
  {
   "cell_type": "code",
   "execution_count": null,
   "metadata": {
    "scrolled": true
   },
   "outputs": [],
   "source": [
    "instans = create_instance.create(domene, altinn_token, app, org_nummer)\n",
    "\n",
    "partyId = instans['instanceOwner']['partyId']\n",
    "instanceGuid = instans['data'][0]['instanceGuid']\n",
    "dataId = instans['data'][0]['id']\n",
    "\n",
    "instansUrl = domene + instans['appId'] + \"/instances/\" + partyId + \"/\" + instanceGuid\n",
    "mvaMeldingInnsendingUrl  = instansUrl + \"/data/\" + dataId\n",
    "mvaMeldingUrl = instansUrl + \"/data?dataType=mvamelding\"\n",
    "mvaMeldingVedleggUrl  = instansUrl + \"/data?dataType=vedlegg\""
   ]
  },
  {
   "cell_type": "markdown",
   "metadata": {},
   "source": [
    "## <font color=red>Last opp MvaMeldingInnsending</font>"
   ]
  },
  {
   "cell_type": "code",
   "execution_count": null,
   "metadata": {},
   "outputs": [],
   "source": [
    "upload_vatreturnfiling.upload(mvaMeldingInnsendingUrl, konvolutt_xml, altinn_token)"
   ]
  },
  {
   "cell_type": "markdown",
   "metadata": {},
   "source": [
    "## <font color=red>Last opp MvaMelding</font>"
   ]
  },
  {
   "cell_type": "code",
   "execution_count": null,
   "metadata": {
    "scrolled": true
   },
   "outputs": [],
   "source": [
    "upload_vatreturn.upload(mvaMeldingUrl, melding_xml, altinn_token)"
   ]
  },
  {
   "cell_type": "markdown",
   "metadata": {},
   "source": [
    "## <font color=red>Last opp Vedlegg(valgfritt)</font>"
   ]
  },
  {
   "cell_type": "markdown",
   "source": [
    "#### .xml vedlegg"
   ],
   "metadata": {
    "collapsed": false
   }
  },
  {
   "cell_type": "code",
   "execution_count": null,
   "metadata": {
    "pycharm": {
     "name": "#%%\n"
    }
   },
   "outputs": [],
   "source": [
    "xml_vedlegg = upload_attachment.upload(mvaMeldingVedleggUrl, \"mva-vedlegg.xml\", \"text/xml\" , altinn_token)"
   ]
  },
  {
   "cell_type": "markdown",
   "source": [
    "#### .pdf vedlegg"
   ],
   "metadata": {
    "collapsed": false
   }
  },
  {
   "cell_type": "code",
   "execution_count": null,
   "outputs": [],
   "source": [
    "pdf_vedlegg = upload_attachment.upload(mvaMeldingVedleggUrl, \"pdf-vedlegg.pdf\", \"application/pdf\", altinn_token)"
   ],
   "metadata": {
    "collapsed": false,
    "pycharm": {
     "name": "#%%\n"
    }
   }
  },
  {
   "cell_type": "markdown",
   "source": [
    "#### .png vedlegg"
   ],
   "metadata": {
    "collapsed": false
   }
  },
  {
   "cell_type": "code",
   "execution_count": null,
   "outputs": [],
   "source": [
    "png_vedlegg = upload_attachment.upload(mvaMeldingVedleggUrl, \"png-vedlegg.png\", \"image/png\", altinn_token)"
   ],
   "metadata": {
    "collapsed": false,
    "pycharm": {
     "name": "#%%\n"
    }
   }
  },
  {
   "cell_type": "markdown",
   "metadata": {},
   "source": [
    "## <font color=red>Send Inn MvaMeldingInnsending</font>"
   ]
  },
  {
   "cell_type": "code",
   "execution_count": null,
   "metadata": {},
   "outputs": [],
   "source": [
    "avslutteProsess = update_process.next_step(instansUrl, altinn_token)"
   ]
  },
  {
   "cell_type": "markdown",
   "metadata": {},
   "source": [
    "## <font color=red>Hente Instansen</font>"
   ]
  },
  {
   "cell_type": "code",
   "execution_count": null,
   "metadata": {
    "pycharm": {
     "name": "#%%\n"
    }
   },
   "outputs": [],
   "source": [
    "instans = get_instance.get(instansUrl, altinn_token)"
   ]
  },
  {
   "cell_type": "code",
   "execution_count": null,
   "outputs": [],
   "source": [],
   "metadata": {
    "collapsed": false,
    "pycharm": {
     "name": "#%%\n"
    }
   }
  }
 ],
 "metadata": {
  "kernelspec": {
   "name": "pycharm-c322c35b",
   "language": "python",
   "display_name": "PyCharm (mva-melding-ekstern-doks)"
  },
  "language_info": {
   "codemirror_mode": {
    "name": "ipython",
    "version": 3
   },
   "file_extension": ".py",
   "mimetype": "text/x-python",
   "name": "python",
   "nbconvert_exporter": "python",
   "pygments_lexer": "ipython3",
   "version": "3.6.9"
  }
 },
 "nbformat": 4,
 "nbformat_minor": 4
}