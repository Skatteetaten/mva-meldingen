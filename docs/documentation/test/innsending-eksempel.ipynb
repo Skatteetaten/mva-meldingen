{
 "cells": [
  {
   "cell_type": "markdown",
   "metadata": {},
   "source": [
    "# <font color=red>Innsending av mva-melding til altinn3</font>\n",
    "\n",
    "Test-script for å laste opp en mva-melding til altinn3-appen på tt02 miljøet i Altinn Studio."
   ]
  },
  {
   "cell_type": "markdown",
   "metadata": {},
   "source": [
    "## <font color=red>Sjekke at du har installert de nødvendige bibliotekene.</font>"
   ]
  },
  {
   "cell_type": "code",
   "execution_count": null,
   "metadata": {
    "pycharm": {
     "is_executing": true
    }
   },
   "outputs": [],
   "source": [
    "try:\n",
    "    import requests\n",
    "    import base64\n",
    "    import xmltodict\n",
    "    import xml.dom.minidom\n",
    "    from Steg import hent_xml_filer, hente_altinntoken, hente_instans, last_opp_konvolutt, last_opp_melding\n",
    "    from Steg import last_opp_vedlegg, logge_inn_idporten, oppdatere_prosess, opprett_instans, slette_vedlegg\n",
    "    from InnsendingServices import Miljo, InnloggingType, printing, App\n",
    "    from portalmelding import valider_melding\n",
    "except ImportError as e:\n",
    "    try: \n",
    "        print(\"Mangler en avhengighet, installer dem via pip\")\n",
    "        !pip install python-jose[cryptography] cryptography\n",
    "        !pip install xmltodict\n",
    "        !pip install requests\n",
    "        import xmltodict\n",
    "        import requests\n",
    "        from Steg import hent_xml_filer, hente_altinntoken, hente_instans, last_opp_konvolutt, last_opp_melding\n",
    "        from Steg import last_opp_vedlegg, logge_inn_idporten, oppdatere_prosess, opprett_instans, slette_vedlegg\n",
    "        from InnsendingServices import Miljo, InnloggingType, printing, App\n",
    "        from portalmelding import valider_melding\n",
    "    except ImportError as err:\n",
    "        print(\"Mangler en avhengighet, installer dem via pip\")\n",
    "        !python3 -m pip install python-jose[cryptography] cryptography\n",
    "        !python3 -m pip install xmltodict\n",
    "        !python3 -m pip install requests\n",
    "        import xmltodict\n",
    "        import requests\n",
    "        from Steg import hent_xml_filer, hente_altinntoken, hente_instans, last_opp_konvolutt, last_opp_melding\n",
    "        from Steg import last_opp_vedlegg, logge_inn_idporten, oppdatere_prosess, opprett_instans, slette_vedlegg\n",
    "        from InnsendingServices import Miljo, InnloggingType, printing, App\n",
    "        from portalmelding import valider_melding"
   ]
  },
  {
   "cell_type": "markdown",
   "metadata": {},
   "source": [
    "## <font color=red>Definere variabler</font>"
   ]
  },
  {
   "cell_type": "code",
   "execution_count": null,
   "metadata": {
    "pycharm": {
     "name": "#%%\n",
     "is_executing": true
    }
   },
   "outputs": [],
   "source": [
    "slette_forrige_vedlegg = False  # Hvis man vil slette et vedlegg man har sendt inn ved feil.\n",
    "\n",
    "# Trenger ikke å gjøre noe med.\n",
    "# Bare for intern testing\n",
    "miljo = Miljo.tt02  # tt02, local\n",
    "innloggings_metode = InnloggingType.idporten  # idporten, maskinporten\n",
    "domene = miljo.value  # Domenet til appen på Altinn Studio\n",
    "app = App.ETM2.value  # Hvilken app repository som kjøres\n",
    "\n",
    "header = None\n",
    "\n",
    "# Husk å legg inn org_nummer du ønsker å sende inn for.\n",
    "# Merk at personen som skal sende inn må ha nødvendig roller/rettigheter i altinn studio appen,\n",
    "# for å få lov til å sende inn.\n",
    "org_nummer = \"123456789\"\n"
   ]
  },
  {
   "cell_type": "markdown",
   "metadata": {},
   "source": [
    "## <font color=red>Definere MvaMelding og MvaMeldingInnsending.</font>"
   ]
  },
  {
   "cell_type": "code",
   "execution_count": null,
   "metadata": {
    "pycharm": {
     "name": "#%%\n",
     "is_executing": true
    }
   },
   "outputs": [],
   "source": [
    "melding_xml, konvolutt_xml = hent_xml_filer.hent()"
   ]
  },
  {
   "cell_type": "markdown",
   "metadata": {},
   "source": [
    "## <font color=red>Generer ID-porten token</font>\n",
    "Tokenet er gyldig i 300 sekunder, rekjør denne biten om du ikke har kommet frem til altinntoken innen den tid."
   ]
  },
  {
   "cell_type": "code",
   "execution_count": null,
   "metadata": {
    "scrolled": true,
    "pycharm": {
     "is_executing": true
    }
   },
   "outputs": [],
   "source": [
    "if innloggings_metode == InnloggingType.idporten:\n",
    "    header = logge_inn_idporten.hent_idtoken()"
   ]
  },
  {
   "cell_type": "markdown",
   "source": [
    "## <font color=red>Valider meldingen(Valgfritt)</font>"
   ],
   "metadata": {
    "collapsed": false,
    "pycharm": {
     "name": "#%% md\n"
    }
   }
  },
  {
   "cell_type": "code",
   "execution_count": null,
   "outputs": [],
   "source": [
    "if innloggings_metode == InnloggingType.idporten:\n",
    "  validering = valider_melding(dict(header), xml=melding_xml)"
   ],
   "metadata": {
    "collapsed": false,
    "pycharm": {
     "name": "#%%\n",
     "is_executing": true
    }
   }
  },
  {
   "cell_type": "markdown",
   "metadata": {},
   "source": [
    "## <font color=red>Hente AltinnToken</font>"
   ]
  },
  {
   "cell_type": "code",
   "execution_count": null,
   "metadata": {
    "scrolled": true,
    "pycharm": {
     "is_executing": true
    }
   },
   "outputs": [],
   "source": [
    "if innloggings_metode != InnloggingType.maskinporten:\n",
    "  altinn_token = hente_altinntoken.hent(innloggings_metode.name, header)"
   ]
  },
  {
   "cell_type": "markdown",
   "metadata": {
    "pycharm": {
     "name": "#%% md\n"
    }
   },
   "source": [
    "## <font color=red>Opprett ny instans</font>"
   ]
  },
  {
   "cell_type": "code",
   "execution_count": null,
   "metadata": {
    "scrolled": true,
    "pycharm": {
     "is_executing": true
    }
   },
   "outputs": [],
   "source": [
    "instans = opprett_instans.oprett(domene, altinn_token, app, org_nummer)\n",
    "\n",
    "partyId = instans['instanceOwner']['partyId']\n",
    "instanceGuid = instans['data'][0]['instanceGuid']\n",
    "dataId = instans['data'][0]['id']\n",
    "\n",
    "instansUrl = domene + instans['appId'] + \"/instances/\" + partyId + \"/\" + instanceGuid\n",
    "mvaMeldingInnsendingUrl  = instansUrl + \"/data/\" + dataId\n",
    "mvaMeldingUrl = instansUrl + \"/data?dataType=mvamelding\"\n",
    "mvaMeldingVedleggUrl  = instansUrl + \"/data?dataType=vedlegg\""
   ]
  },
  {
   "cell_type": "markdown",
   "metadata": {},
   "source": [
    "## <font color=red>Last opp MvaMeldingInnsending</font>"
   ]
  },
  {
   "cell_type": "code",
   "execution_count": null,
   "metadata": {
    "pycharm": {
     "is_executing": true
    }
   },
   "outputs": [],
   "source": [
    "last_opp_konvolutt.last_opp(miljo.name, mvaMeldingInnsendingUrl, konvolutt_xml, altinn_token)"
   ]
  },
  {
   "cell_type": "markdown",
   "metadata": {},
   "source": [
    "## <font color=red>Last opp MvaMelding</font>"
   ]
  },
  {
   "cell_type": "code",
   "execution_count": null,
   "metadata": {
    "scrolled": true,
    "pycharm": {
     "is_executing": true
    }
   },
   "outputs": [],
   "source": [
    "last_opp_melding.last_opp(miljo.name, mvaMeldingUrl, melding_xml, altinn_token)"
   ]
  },
  {
   "cell_type": "markdown",
   "metadata": {},
   "source": [
    "## <font color=red>Last opp Vedlegg(valgfritt)</font>"
   ]
  },
  {
   "cell_type": "markdown",
   "source": [
    "#### .xml vedlegg"
   ],
   "metadata": {
    "collapsed": false
   }
  },
  {
   "cell_type": "code",
   "execution_count": null,
   "metadata": {
    "pycharm": {
     "name": "#%%\n",
     "is_executing": true
    }
   },
   "outputs": [],
   "source": [
    "xml_vedlegg = last_opp_vedlegg.last_opp(miljo.name, mvaMeldingVedleggUrl, \"mva-vedlegg.xml\", \"text/xml\" , altinn_token)"
   ]
  },
  {
   "cell_type": "markdown",
   "source": [
    "#### .pdf vedlegg"
   ],
   "metadata": {
    "collapsed": false
   }
  },
  {
   "cell_type": "code",
   "execution_count": null,
   "outputs": [],
   "source": [
    "pdf_vedlegg = last_opp_vedlegg.last_opp(miljo.name, mvaMeldingVedleggUrl, \"pdf-vedlegg.pdf\", \"application/pdf\", altinn_token)"
   ],
   "metadata": {
    "collapsed": false,
    "pycharm": {
     "name": "#%%\n",
     "is_executing": true
    }
   }
  },
  {
   "cell_type": "markdown",
   "source": [
    "#### .png vedlegg"
   ],
   "metadata": {
    "collapsed": false
   }
  },
  {
   "cell_type": "code",
   "execution_count": null,
   "outputs": [],
   "source": [
    "png_vedlegg = last_opp_vedlegg.last_opp(miljo.name, mvaMeldingVedleggUrl, \"png-vedlegg.png\", \"image/png\", altinn_token)"
   ],
   "metadata": {
    "collapsed": false,
    "pycharm": {
     "name": "#%%\n",
     "is_executing": true
    }
   }
  },
  {
   "cell_type": "markdown",
   "metadata": {},
   "source": [
    "## <font color=red>Send Inn MvaMeldingInnsending</font>"
   ]
  },
  {
   "cell_type": "code",
   "execution_count": null,
   "metadata": {
    "pycharm": {
     "is_executing": true
    }
   },
   "outputs": [],
   "source": [
    "avslutteProsess = oppdatere_prosess.neste(miljo.name, instansUrl, altinn_token)"
   ]
  },
  {
   "cell_type": "markdown",
   "metadata": {},
   "source": [
    "## <font color=red>Hente Instansen</font>"
   ]
  },
  {
   "cell_type": "code",
   "execution_count": null,
   "metadata": {
    "pycharm": {
     "name": "#%%\n",
     "is_executing": true
    }
   },
   "outputs": [],
   "source": [
    "instans = hente_instans.hent(miljo.name, instansUrl, altinn_token)"
   ]
  },
  {
   "cell_type": "code",
   "execution_count": null,
   "outputs": [],
   "source": [],
   "metadata": {
    "collapsed": false,
    "pycharm": {
     "name": "#%%\n",
     "is_executing": true
    }
   }
  }
 ],
 "metadata": {
  "kernelspec": {
   "name": "pycharm-c322c35b",
   "language": "python",
   "display_name": "PyCharm (mva-melding-ekstern-doks)"
  },
  "language_info": {
   "codemirror_mode": {
    "name": "ipython",
    "version": 3
   },
   "file_extension": ".py",
   "mimetype": "text/x-python",
   "name": "python",
   "nbconvert_exporter": "python",
   "pygments_lexer": "ipython3",
   "version": "3.6.9"
  }
 },
 "nbformat": 4,
 "nbformat_minor": 4
}