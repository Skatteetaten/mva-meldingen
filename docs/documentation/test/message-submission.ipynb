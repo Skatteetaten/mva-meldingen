{
 "cells": [
  {
   "cell_type": "markdown",
   "metadata": {},
   "source": [
    "# <font color=red>Submission of mva-melding to Altinn3</font>\n",
    "\n",
    "Test-script to submit a mva message to the app on Altinn3, which is running on the tt02 environment on Altinn Studio."
   ]
  },
  {
   "cell_type": "markdown",
   "metadata": {},
   "source": [
    "## <font color=red>Check that required libraries are installed</font>"
   ]
  },
  {
   "cell_type": "code",
   "execution_count": null,
   "metadata": {},
   "outputs": [],
   "source": [
    "try:\n",
    "    import requests\n",
    "    import base64\n",
    "    import xmltodict\n",
    "    import xml.dom.minidom\n",
    "    from Steg import load_xml_files, get_altinntoken, get_instance, upload_mvameldinginnsending, upload_mvamelding\n",
    "    from Steg import upload_attachment, log_in_idporten, update_process, create_instance, delete_attachment\n",
    "    from Steg.SubmissionServices import Environment, LoginMethod, printing, App\n",
    "    from Steg.validation import validate_message, validate_example_file\n",
    "except ImportError as e:\n",
    "    try: \n",
    "        print(\"Mangler en avhengighet, installer dem via pip\")\n",
    "        !pip install python-jose[cryptography] cryptography\n",
    "        !pip install xmltodict\n",
    "        !pip install requests\n",
    "        import xmltodict\n",
    "        import requests\n",
    "        from Steg import load_xml_files, get_altinntoken, get_instance, upload_mvameldinginnsending, upload_mvamelding\n",
    "        from Steg import upload_attachment, log_in_idporten, update_process, create_instance, delete_attachment\n",
    "        from Steg.SubmissionServices import Environment, LoginMethod, printing, App\n",
    "        from Steg.validation import validate_message, validate_example_file\n",
    "    except ImportError as err:\n",
    "        print(\"Mangler en avhengighet, installer dem via pip\")\n",
    "        !python3 -m pip install python-jose[cryptography] cryptography\n",
    "        !python3 -m pip install 'python-jose[cryptography]'\n",
    "        !python3 -m pip install xmltodict\n",
    "        !python3 -m pip install requests\n",
    "        import xmltodict\n",
    "        import requests\n",
    "        from Steg import load_xml_files, get_altinntoken, get_instance, upload_mvameldinginnsending, upload_mvamelding\n",
    "        from Steg import upload_attachment, log_in_idporten, update_process, create_instance, delete_attachment\n",
    "        from Steg.SubmissionServices import Environment, LoginMethod, printing, App\n",
    "        from Steg.validation import validate_message, validate_example_file"
   ]
  },
  {
   "cell_type": "markdown",
   "metadata": {},
   "source": [
    "## <font color=red>Define variables</font>"
   ]
  },
  {
   "cell_type": "code",
   "execution_count": null,
   "metadata": {
    "pycharm": {
     "name": "#%%\n"
    }
   },
   "outputs": [],
   "source": [
    "delete_previous_attachment = False  # If you want to delete an attachment you've uploaded by mistake.\n",
    "validate = True  # If you want to run through the validation.\n",
    "\n",
    "# No need to touch these\n",
    "environment = Environment.tt02  # tt02\n",
    "login_method = LoginMethod.idporten  # idporten\n",
    "domain = environment.value  # Domain to the app on Altinn Studio\n",
    "app = App.ETM2.value  # Which app repository that is running\n",
    "\n",
    "# File name for MvaMeldingInnsending (\"konvolutt\") and mvamelding that is going to be uploaded.\n",
    "# Located in ./eksempler/konvolutt/ and ./eksempler/melding/\n",
    "MvaMeldingInnsending_filename = \"mvakonvolutt1.xml\"\n",
    "mvamelding_filename = \"mvakode3.xml\"\n",
    "\n",
    "header = None\n",
    "\n",
    "# Insert organization number you wish to send in for.\n",
    "# Make note that the person that is going to submit needs to have the appropriate roles and rights.\n",
    "org_number = \"123456789\""
   ]
  },
  {
   "cell_type": "markdown",
   "metadata": {},
   "source": [
    "## <font color=red>Define MvaMelding and MvaMeldingInnsending</font>"
   ]
  },
  {
   "cell_type": "code",
   "execution_count": null,
   "metadata": {
    "pycharm": {
     "name": "#%%\n"
    }
   },
   "outputs": [],
   "source": [
    "melding_xml, konvolutt_xml = load_xml_files.get(MvaMeldingInnsending_filename, mvamelding_filename)"
   ]
  },
  {
   "cell_type": "markdown",
   "metadata": {},
   "source": [
    "## <font color=red>Generate ID-porten token</font>\n",
    "The token is valid for 300 seconds, re-run this part if you haven't reached the altinntoken in time."
   ]
  },
  {
   "cell_type": "code",
   "execution_count": null,
   "metadata": {
    "scrolled": true
   },
   "outputs": [],
   "source": [
    "header = log_in_idporten.get_idtoken()"
   ]
  },
  {
   "cell_type": "markdown",
   "source": [
    "## <font color=red>Validate message(Optional)</font>"
   ],
   "metadata": {
    "collapsed": false,
    "pycharm": {
     "name": "#%% md\n"
    }
   }
  },
  {
   "cell_type": "code",
   "execution_count": null,
   "outputs": [],
   "source": [
    "if login_method == validate:\n",
    "  validation = validate_message(dict(header), xml=melding_xml)"
   ],
   "metadata": {
    "collapsed": false,
    "pycharm": {
     "name": "#%%\n"
    }
   }
  },
  {
   "cell_type": "markdown",
   "metadata": {},
   "source": [
    "## <font color=red>Get AltinnToken</font>"
   ]
  },
  {
   "cell_type": "code",
   "execution_count": null,
   "metadata": {
    "scrolled": true
   },
   "outputs": [],
   "source": [
    "altinn_token = get_altinntoken.get(header)"
   ]
  },
  {
   "cell_type": "markdown",
   "metadata": {
    "pycharm": {
     "name": "#%% md\n"
    }
   },
   "source": [
    "## <font color=red>Create new instance</font>"
   ]
  },
  {
   "cell_type": "code",
   "execution_count": null,
   "metadata": {
    "scrolled": true
   },
   "outputs": [],
   "source": [
    "instance = create_instance.create(domain, altinn_token, app, org_number)\n",
    "\n",
    "partyId = instance['instanceOwner']['partyId']\n",
    "instanceGuid = instance['data'][0]['instanceGuid']\n",
    "dataId = instance['data'][0]['id']\n",
    "\n",
    "instanceUrl = domain + instance['appId'] + \"/instances/\" + partyId + \"/\" + instanceGuid\n",
    "mvaMeldingInnsendingUrl  = instanceUrl + \"/data/\" + dataId\n",
    "mvaMeldingUrl = instanceUrl + \"/data?dataType=mvamelding\"\n",
    "mvaMeldingVedleggUrl  = instanceUrl + \"/data?dataType=vedlegg\""
   ]
  },
  {
   "cell_type": "markdown",
   "metadata": {},
   "source": [
    "## <font color=red>Upload MvaMeldingInnsending</font>"
   ]
  },
  {
   "cell_type": "code",
   "execution_count": null,
   "metadata": {},
   "outputs": [],
   "source": [
    "upload_mvameldinginnsending.upload(mvaMeldingInnsendingUrl, konvolutt_xml, altinn_token)"
   ]
  },
  {
   "cell_type": "markdown",
   "metadata": {},
   "source": [
    "## <font color=red>Upload MvaMelding</font>"
   ]
  },
  {
   "cell_type": "code",
   "execution_count": null,
   "metadata": {
    "scrolled": true
   },
   "outputs": [],
   "source": [
    "upload_mvamelding.upload(mvaMeldingUrl, melding_xml, altinn_token)"
   ]
  },
  {
   "cell_type": "markdown",
   "metadata": {},
   "source": [
    "## <font color=red>Upload Attachments(optional)</font>"
   ]
  },
  {
   "cell_type": "markdown",
   "source": [
    "#### .xml attachment"
   ],
   "metadata": {
    "collapsed": false
   }
  },
  {
   "cell_type": "code",
   "execution_count": null,
   "metadata": {
    "pycharm": {
     "name": "#%%\n"
    }
   },
   "outputs": [],
   "source": [
    "xml_vedlegg = upload_attachment.upload(mvaMeldingVedleggUrl, \"mva-vedlegg.xml\", \"text/xml\" , altinn_token)"
   ]
  },
  {
   "cell_type": "markdown",
   "source": [
    "#### .pdf attachment"
   ],
   "metadata": {
    "collapsed": false
   }
  },
  {
   "cell_type": "code",
   "execution_count": null,
   "outputs": [],
   "source": [
    "pdf_vedlegg = upload_attachment.upload(mvaMeldingVedleggUrl, \"pdf-vedlegg.pdf\", \"application/pdf\", altinn_token)"
   ],
   "metadata": {
    "collapsed": false,
    "pycharm": {
     "name": "#%%\n"
    }
   }
  },
  {
   "cell_type": "markdown",
   "source": [
    "#### .png attachment"
   ],
   "metadata": {
    "collapsed": false
   }
  },
  {
   "cell_type": "code",
   "execution_count": null,
   "outputs": [],
   "source": [
    "png_vedlegg = upload_attachment.upload(mvaMeldingVedleggUrl, \"png-vedlegg.png\", \"image/png\", altinn_token)"
   ],
   "metadata": {
    "collapsed": false,
    "pycharm": {
     "name": "#%%\n"
    }
   }
  },
  {
   "cell_type": "markdown",
   "metadata": {},
   "source": [
    "## <font color=red>Submit MvaMeldingInnsending</font>"
   ]
  },
  {
   "cell_type": "code",
   "execution_count": null,
   "metadata": {},
   "outputs": [],
   "source": [
    "FillingProcess = update_process.next_step(instanceUrl, altinn_token)"
   ]
  },
  {
   "cell_type": "markdown",
   "metadata": {},
   "source": [
    "## <font color=red>Get Instance</font>"
   ]
  },
  {
   "cell_type": "code",
   "execution_count": null,
   "metadata": {
    "pycharm": {
     "name": "#%%\n"
    }
   },
   "outputs": [],
   "source": [
    "instance = get_instance.get(instanceUrl, altinn_token)"
   ]
  }
 ],
 "metadata": {
  "kernelspec": {
   "name": "pycharm-c322c35b",
   "language": "python",
   "display_name": "PyCharm (mva-melding-ekstern-doks)"
  },
  "language_info": {
   "codemirror_mode": {
    "name": "ipython",
    "version": 3
   },
   "file_extension": ".py",
   "mimetype": "text/x-python",
   "name": "python",
   "nbconvert_exporter": "python",
   "pygments_lexer": "ipython3",
   "version": "3.6.9"
  }
 },
 "nbformat": 4,
 "nbformat_minor": 4
}