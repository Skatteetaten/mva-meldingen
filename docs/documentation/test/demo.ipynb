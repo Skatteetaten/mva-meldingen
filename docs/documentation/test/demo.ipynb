{
 "cells": [
  {
   "cell_type": "markdown",
   "metadata": {},
   "source": [
    "# DEMO Valider Skattemelding"
   ]
  },
  {
   "cell_type": "markdown",
   "metadata": {},
   "source": [
    "Denne demoen er ment for å vise integrasjonene mot Skatteetaten sine nye validerings- og innsendingstjeneste."
   ]
  },
  {
   "cell_type": "code",
   "execution_count": 2,
   "metadata": {},
   "outputs": [
    {
     "name": "stdout",
     "output_type": "stream",
     "text": [
      "Mangler en avhengighet, installer dem via pip\n",
      "Requirement already satisfied: python-jose[cryptography] in /home/k18526/snap/jupyter/common/lib/python3.7/site-packages (3.2.0)\n",
      "Requirement already satisfied: cryptography in /home/k18526/snap/jupyter/common/lib/python3.7/site-packages (3.3.1)\n",
      "Requirement already satisfied: six<2.0 in /snap/jupyter/6/lib/python3.7/site-packages (from python-jose[cryptography]) (1.12.0)\n",
      "Requirement already satisfied: pyasn1 in /home/k18526/snap/jupyter/common/lib/python3.7/site-packages (from python-jose[cryptography]) (0.4.8)\n",
      "Requirement already satisfied: ecdsa<0.15 in /home/k18526/snap/jupyter/common/lib/python3.7/site-packages (from python-jose[cryptography]) (0.14.1)\n",
      "Requirement already satisfied: rsa in /home/k18526/snap/jupyter/common/lib/python3.7/site-packages (from python-jose[cryptography]) (4.7)\n",
      "Requirement already satisfied: cffi>=1.12 in /home/k18526/snap/jupyter/common/lib/python3.7/site-packages (from cryptography) (1.14.4)\n",
      "Requirement already satisfied: pycparser in /home/k18526/snap/jupyter/common/lib/python3.7/site-packages (from cffi>=1.12->cryptography) (2.20)\n",
      "Requirement already satisfied: xmltodict in /home/k18526/snap/jupyter/common/lib/python3.7/site-packages (0.12.0)\n",
      "Requirement already satisfied: requests in /home/k18526/snap/jupyter/common/lib/python3.7/site-packages (2.25.1)\n",
      "Requirement already satisfied: urllib3<1.27,>=1.21.1 in /home/k18526/snap/jupyter/common/lib/python3.7/site-packages (from requests) (1.26.2)\n",
      "Requirement already satisfied: chardet<5,>=3.0.2 in /home/k18526/snap/jupyter/common/lib/python3.7/site-packages (from requests) (4.0.0)\n",
      "Requirement already satisfied: idna<3,>=2.5 in /home/k18526/snap/jupyter/common/lib/python3.7/site-packages (from requests) (2.10)\n",
      "Requirement already satisfied: certifi>=2017.4.17 in /snap/jupyter/6/lib/python3.7/site-packages (from requests) (2019.3.9)\n",
      "Mangler en avhengighet, installer dem via pip\n",
      "\u001b[31mERROR: Invalid requirement: 'python-jose[cryptography] cryptography'\n",
      "\u001b[0m\n",
      "Requirement already satisfied: xmltodict in /home/k18526/snap/jupyter/common/lib/python3.7/site-packages (0.12.0)\n",
      "Requirement already satisfied: requests in /home/k18526/snap/jupyter/common/lib/python3.7/site-packages (2.25.1)\n",
      "Requirement already satisfied: chardet<5,>=3.0.2 in /home/k18526/snap/jupyter/common/lib/python3.7/site-packages (from requests) (4.0.0)\n",
      "Requirement already satisfied: urllib3<1.27,>=1.21.1 in /home/k18526/snap/jupyter/common/lib/python3.7/site-packages (from requests) (1.26.2)\n",
      "Requirement already satisfied: idna<3,>=2.5 in /home/k18526/snap/jupyter/common/lib/python3.7/site-packages (from requests) (2.10)\n",
      "Requirement already satisfied: certifi>=2017.4.17 in /snap/jupyter/6/lib/python3.7/site-packages (from requests) (2019.3.9)\n"
     ]
    },
    {
     "ename": "ModuleNotFoundError",
     "evalue": "No module named 'docs'",
     "output_type": "error",
     "traceback": [
      "\u001b[0;31m---------------------------------------------------------------------------\u001b[0m",
      "\u001b[0;31mModuleNotFoundError\u001b[0m                       Traceback (most recent call last)",
      "\u001b[0;32m<ipython-input-2-746e109efe02>\u001b[0m in \u001b[0;36m<module>\u001b[0;34m\u001b[0m\n\u001b[1;32m      6\u001b[0m     \u001b[0;32mfrom\u001b[0m \u001b[0mSteg\u001b[0m\u001b[0;34m.\u001b[0m\u001b[0mlogge_inn_idporten\u001b[0m \u001b[0;32mimport\u001b[0m \u001b[0mhent_idtoken\u001b[0m\u001b[0;34m,\u001b[0m \u001b[0mbase64_decode_response\u001b[0m\u001b[0;34m,\u001b[0m \u001b[0mdecode_dokument\u001b[0m\u001b[0;34m\u001b[0m\u001b[0;34m\u001b[0m\u001b[0m\n\u001b[0;32m----> 7\u001b[0;31m     \u001b[0;32mfrom\u001b[0m \u001b[0mportalmelding\u001b[0m \u001b[0;32mimport\u001b[0m \u001b[0mvalider_melding\u001b[0m\u001b[0;34m,\u001b[0m \u001b[0mvalider_eksempel_fil\u001b[0m\u001b[0;34m\u001b[0m\u001b[0;34m\u001b[0m\u001b[0m\n\u001b[0m\u001b[1;32m      8\u001b[0m \u001b[0;32mexcept\u001b[0m \u001b[0mImportError\u001b[0m \u001b[0;32mas\u001b[0m \u001b[0me\u001b[0m\u001b[0;34m:\u001b[0m\u001b[0;34m\u001b[0m\u001b[0;34m\u001b[0m\u001b[0m\n",
      "\u001b[0;32m/home/k18526/IdeaProjects/mva-melding-ekstern-doks/docs/documentation/test/testinnsending/portalmelding.py\u001b[0m in \u001b[0;36m<module>\u001b[0;34m\u001b[0m\n\u001b[0;32m----> 1\u001b[0;31m \u001b[0;32mfrom\u001b[0m \u001b[0mdocs\u001b[0m\u001b[0;34m.\u001b[0m\u001b[0mdocumentation\u001b[0m\u001b[0;34m.\u001b[0m\u001b[0mtest\u001b[0m\u001b[0;34m.\u001b[0m\u001b[0mtestinnsending\u001b[0m\u001b[0;34m.\u001b[0m\u001b[0mSteg\u001b[0m\u001b[0;34m.\u001b[0m\u001b[0mlogge_inn_idporten\u001b[0m \u001b[0;32mimport\u001b[0m \u001b[0mhent_idtoken\u001b[0m\u001b[0;34m\u001b[0m\u001b[0;34m\u001b[0m\u001b[0m\n\u001b[0m\u001b[1;32m      2\u001b[0m \u001b[0;32mimport\u001b[0m \u001b[0mrequests\u001b[0m\u001b[0;34m\u001b[0m\u001b[0;34m\u001b[0m\u001b[0m\n\u001b[1;32m      3\u001b[0m \u001b[0;34m\u001b[0m\u001b[0m\n",
      "\u001b[0;31mModuleNotFoundError\u001b[0m: No module named 'docs'",
      "\nDuring handling of the above exception, another exception occurred:\n",
      "\u001b[0;31mModuleNotFoundError\u001b[0m                       Traceback (most recent call last)",
      "\u001b[0;32m<ipython-input-2-746e109efe02>\u001b[0m in \u001b[0;36m<module>\u001b[0;34m\u001b[0m\n\u001b[1;32m     15\u001b[0m         \u001b[0;32mimport\u001b[0m \u001b[0mrequests\u001b[0m\u001b[0;34m\u001b[0m\u001b[0;34m\u001b[0m\u001b[0m\n\u001b[0;32m---> 16\u001b[0;31m         \u001b[0;32mfrom\u001b[0m \u001b[0mhent\u001b[0m \u001b[0;32mimport\u001b[0m \u001b[0mhent_idtoken\u001b[0m\u001b[0;34m,\u001b[0m \u001b[0mbase64_decode_response\u001b[0m\u001b[0;34m,\u001b[0m \u001b[0mdecode_dokument\u001b[0m\u001b[0;34m\u001b[0m\u001b[0;34m\u001b[0m\u001b[0m\n\u001b[0m\u001b[1;32m     17\u001b[0m         \u001b[0;32mfrom\u001b[0m \u001b[0mportalmelding\u001b[0m \u001b[0;32mimport\u001b[0m \u001b[0mvalider_melding\u001b[0m\u001b[0;34m,\u001b[0m \u001b[0mvalider_eksempel_fil\u001b[0m\u001b[0;34m\u001b[0m\u001b[0;34m\u001b[0m\u001b[0m\n",
      "\u001b[0;31mModuleNotFoundError\u001b[0m: No module named 'hent'",
      "\nDuring handling of the above exception, another exception occurred:\n",
      "\u001b[0;31mModuleNotFoundError\u001b[0m                       Traceback (most recent call last)",
      "\u001b[0;32m<ipython-input-2-746e109efe02>\u001b[0m in \u001b[0;36m<module>\u001b[0;34m\u001b[0m\n\u001b[1;32m     24\u001b[0m         \u001b[0;32mimport\u001b[0m \u001b[0mrequests\u001b[0m\u001b[0;34m\u001b[0m\u001b[0;34m\u001b[0m\u001b[0m\n\u001b[1;32m     25\u001b[0m         \u001b[0;32mfrom\u001b[0m \u001b[0mSteg\u001b[0m\u001b[0;34m.\u001b[0m\u001b[0mlogge_inn_idporten\u001b[0m \u001b[0;32mimport\u001b[0m \u001b[0mhent_idtoken\u001b[0m\u001b[0;34m,\u001b[0m \u001b[0mbase64_decode_response\u001b[0m\u001b[0;34m,\u001b[0m \u001b[0mdecode_dokument\u001b[0m\u001b[0;34m\u001b[0m\u001b[0;34m\u001b[0m\u001b[0m\n\u001b[0;32m---> 26\u001b[0;31m         \u001b[0;32mfrom\u001b[0m \u001b[0mportalmelding\u001b[0m \u001b[0;32mimport\u001b[0m \u001b[0mvalider_melding\u001b[0m\u001b[0;34m,\u001b[0m \u001b[0mvalider_eksempel_fil\u001b[0m\u001b[0;34m\u001b[0m\u001b[0;34m\u001b[0m\u001b[0m\n\u001b[0m",
      "\u001b[0;32m/home/k18526/IdeaProjects/mva-melding-ekstern-doks/docs/documentation/test/testinnsending/portalmelding.py\u001b[0m in \u001b[0;36m<module>\u001b[0;34m\u001b[0m\n\u001b[0;32m----> 1\u001b[0;31m \u001b[0;32mfrom\u001b[0m \u001b[0mdocs\u001b[0m\u001b[0;34m.\u001b[0m\u001b[0mdocumentation\u001b[0m\u001b[0;34m.\u001b[0m\u001b[0mtest\u001b[0m\u001b[0;34m.\u001b[0m\u001b[0mtestinnsending\u001b[0m\u001b[0;34m.\u001b[0m\u001b[0mSteg\u001b[0m\u001b[0;34m.\u001b[0m\u001b[0mlogge_inn_idporten\u001b[0m \u001b[0;32mimport\u001b[0m \u001b[0mhent_idtoken\u001b[0m\u001b[0;34m\u001b[0m\u001b[0;34m\u001b[0m\u001b[0m\n\u001b[0m\u001b[1;32m      2\u001b[0m \u001b[0;32mimport\u001b[0m \u001b[0mrequests\u001b[0m\u001b[0;34m\u001b[0m\u001b[0;34m\u001b[0m\u001b[0m\n\u001b[1;32m      3\u001b[0m \u001b[0;34m\u001b[0m\u001b[0m\n\u001b[1;32m      4\u001b[0m \u001b[0;31m# Slå av sertifikat verifikasjon i test\u001b[0m\u001b[0;34m\u001b[0m\u001b[0;34m\u001b[0m\u001b[0;34m\u001b[0m\u001b[0m\n\u001b[1;32m      5\u001b[0m \u001b[0;32mimport\u001b[0m \u001b[0murllib3\u001b[0m\u001b[0;34m\u001b[0m\u001b[0;34m\u001b[0m\u001b[0m\n",
      "\u001b[0;31mModuleNotFoundError\u001b[0m: No module named 'docs'"
     ]
    }
   ],
   "source": [
    "try: \n",
    "    import requests\n",
    "    import base64\n",
    "    import xmltodict\n",
    "    import xml.dom.minidom\n",
    "    from Steg.log_in_idporten import get_idtoken, base64_decode_response, decode_dokument\n",
    "    from Steg.validation import validate_vat_return, validate_example_file\n",
    "except ImportError as e:\n",
    "    try: \n",
    "        print(\"Mangler en avhengighet, installer dem via pip\")\n",
    "        !pip install python-jose[cryptography] cryptography\n",
    "        !pip install xmltodict\n",
    "        !pip install requests\n",
    "        import xmltodict\n",
    "        import requests\n",
    "        from hent import hent_idtoken, base64_decode_response, decode_dokument\n",
    "        from portalmelding import valider_melding, valider_eksempel_fil\n",
    "    except ImportError as err:\n",
    "        print(\"Mangler en avhengighet, installer dem via pip\")\n",
    "        !python3 -m pip install 'python-jose[cryptography] cryptography'\n",
    "        !python3 -m pip install xmltodict\n",
    "        !python3 -m pip install requests\n",
    "        import xmltodict\n",
    "        import requests\n",
    "        from Steg.logge_inn_idporten import hent_idtoken, base64_decode_response, decode_dokument\n",
    "        from portalmelding import valider_melding, valider_eksempel_fil\n"
   ]
  },
  {
   "cell_type": "markdown",
   "metadata": {},
   "source": [
    "## Generer ID-porten token\n",
    "Tokenet er gyldig i 300 sekunder, rekjørt denne biten om du ikke har kommet frem til validering biten før 300 sekunder "
   ]
  },
  {
   "cell_type": "code",
   "execution_count": null,
   "metadata": {
    "scrolled": true
   },
   "outputs": [],
   "source": [
    "idporten_header = get_idtoken()"
   ]
  },
  {
   "cell_type": "markdown",
   "metadata": {},
   "source": [
    "### Valider tjeneste"
   ]
  },
  {
   "cell_type": "code",
   "execution_count": null,
   "metadata": {},
   "outputs": [],
   "source": [
    "melding_xml = f\"\"\"\n",
    "<?xml version=\"1.1\" encoding=\"UTF-8\"?>\n",
    "<mvaMeldingDto xmlns=\"no:skatteetaten:fastsetting:avgift:mva:skattemeldingformerverdiavgift:v0.9\">\n",
    "<innsending>\n",
    "<regnskapssystemsreferanse>3</regnskapssystemsreferanse>\n",
    "<regnskapssystem>\n",
    "<systemnavn>zzx</systemnavn>\n",
    "<systemversjon>4.34.3</systemversjon>\n",
    "</regnskapssystem>\n",
    "<innsender>\n",
    "<norskIdentifikator>02067623456</norskIdentifikator>\n",
    "</innsender>\n",
    "<innsendingTidspunkt>2022-05-26T21:35:47Z</innsendingTidspunkt>\n",
    "</innsending>\n",
    "<skattegrunnlagOgBeregnetSkatt>\n",
    "    <skattleggingsperiode>\n",
    "    <periode>\n",
    "    <skattleggingsperiodeToMaaneder>mars-april</skattleggingsperiodeToMaaneder>\n",
    "    </periode>\n",
    "    <aar>2022</aar>\n",
    "    </skattleggingsperiode>\n",
    "    <fastsattMerverdiavgift>5000</fastsattMerverdiavgift>\n",
    "    <mvaSpesifikasjonslinje>\n",
    "<mvaKode>3</mvaKode>\n",
    "<mvaKodeRegnskapsystem>25 utgående mva</mvaKodeRegnskapsystem>\n",
    "<grunnlag>20000</grunnlag>\n",
    "<sats>25</sats>\n",
    "<merverdiavgift>5000</merverdiavgift>\n",
    "</mvaSpesifikasjonslinje>\n",
    "</skattegrunnlagOgBeregnetSkatt>\n",
    "    <betalingsinformasjon>\n",
    "<kontonummerForTilbakebetaling>\n",
    "<norskKontonummer>999999999</norskKontonummer>\n",
    "</kontonummerForTilbakebetaling>\n",
    "<kundeIdentifikasjonsnummer>3400000932456870</kundeIdentifikasjonsnummer>\n",
    "</betalingsinformasjon>\n",
    "    <skattepliktig>\n",
    "<organisasjonsnummer>913238254</organisasjonsnummer>\n",
    "</skattepliktig>\n",
    "    <meldingskategori>alminnelig</meldingskategori>\n",
    "</mvaMeldingDto>\n",
    "\"\"\".replace(\"\\n\",\"\")\n",
    "\n",
    "s = requests.Session()\n",
    "s.headers = dict(idporten_header)\n",
    "req_valider = validate_vat_return(dict(idporten_header), xml=melding_xml)\n",
    "req_valider.status_code \n",
    "req_valider.content"
   ]
  },
  {
   "cell_type": "code",
   "execution_count": null,
   "metadata": {},
   "outputs": [],
   "source": []
  },
  {
   "cell_type": "markdown",
   "metadata": {},
   "source": [
    "### Valider eksempel fil"
   ]
  },
  {
   "cell_type": "code",
   "execution_count": 7,
   "metadata": {},
   "outputs": [
    {
     "data": {
      "text/plain": [
       "'<?xml version=\"1.0\" encoding=\"UTF-8\"?><mvaMeldingDto xmlns=\"no:skatteetaten:fastsetting:avgift:mva:skattemeldingformerverdiavgift:v0.9\"><innsending><regnskapssystemsreferanse>1</regnskapssystemsreferanse><regnskapssystem><systemnavn>zzx</systemnavn><systemversjon>4.34.3</systemversjon></regnskapssystem><innsender><norskIdentifikator>02067623456</norskIdentifikator></innsender><innsendingTidspunkt>2022-05-26T21:33:47Z</innsendingTidspunkt></innsending><skattegrunnlagOgBeregnetSkatt><skattleggingsperiode><periode><skattleggingsperiodeToMaaneder>mars-april</skattleggingsperiodeToMaaneder></periode><aar>2022</aar></skattleggingsperiode><fastsattMerverdiavgift>-2500</fastsattMerverdiavgift><mvaSpesifikasjonslinje><mvaKode>1</mvaKode><mvaKodeRegnskapsystem>25% inng mva</mvaKodeRegnskapsystem><merverdiavgift>-2500</merverdiavgift></mvaSpesifikasjonslinje></skattegrunnlagOgBeregnetSkatt><betalingsinformasjon><kontonummerForTilbakebetaling><norskKontonummer>999999999</norskKontonummer></kontonummerForTilbakebetaling><kundeIdentifikasjonsnummer>3400000932456870</kundeIdentifikasjonsnummer></betalingsinformasjon><skattepliktig><organisasjonsnummer>913238254</organisasjonsnummer></skattepliktig><meldingskategori>alminnelig</meldingskategori><merknad><beskrivelse>eksempel mvakode1</beskrivelse></merknad></mvaMeldingDto>'"
      ]
     },
     "execution_count": 7,
     "metadata": {},
     "output_type": "execute_result"
    }
   ],
   "source": [
    "fil_navn = \"mvakode1.xml\"\n",
    "s = requests.Session()\n",
    "s.headers = dict(idporten_header)\n",
    "req_valider = validate_example_file(dict(idporten_header), filnavn = fil_navn)\n",
    "req_valider.status_code \n",
    "req_valider.content"
   ]
  }
 ],
 "metadata": {
  "kernelspec": {
   "display_name": "Python 3",
   "language": "python",
   "name": "python3"
  },
  "language_info": {
   "codemirror_mode": {
    "name": "ipython",
    "version": 3
   },
   "file_extension": ".py",
   "mimetype": "text/x-python",
   "name": "python",
   "nbconvert_exporter": "python",
   "pygments_lexer": "ipython3",
   "version": "3.7.3"
  }
 },
 "nbformat": 4,
 "nbformat_minor": 4
}
