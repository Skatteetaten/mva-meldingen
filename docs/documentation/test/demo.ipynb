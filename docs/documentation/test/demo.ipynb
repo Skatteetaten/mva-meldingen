{
 "cells": [
  {
   "cell_type": "markdown",
   "metadata": {},
   "source": [
    "# DEMO Valider Skattemelding"
   ]
  },
  {
   "cell_type": "markdown",
   "metadata": {},
   "source": [
    "Denne demoen er ment for å vise integrasjonene mot Skatteetaten sine nye validerings- og innsendingstjeneste."
   ]
  },
  {
   "cell_type": "code",
   "execution_count": null,
   "metadata": {},
   "outputs": [],
   "source": [
    "try: \n",
    "    import requests\n",
    "    import base64\n",
    "    import xmltodict\n",
    "    import xml.dom.minidom\n",
    "    from Steg.logge_inn_idporten import hent_idtoken, base64_decode_response, decode_dokument\n",
    "    from portalmelding import valider_melding\n",
    "except ImportError as e:\n",
    "    try: \n",
    "        print(\"Mangler en avhengighet, installer dem via pip\")\n",
    "        !pip install python-jose[cryptography] cryptography\n",
    "        !pip install xmltodict\n",
    "        !pip install requests\n",
    "        import xmltodict\n",
    "        import requests\n",
    "        from hent import hent_idtoken, base64_decode_response, decode_dokument\n",
    "        from portalmelding import valider_melding\n",
    "    except ImportError as err:\n",
    "        print(\"Mangler en avhengighet, installer dem via pip\")\n",
    "        !python3 -m pip install 'python-jose[cryptography] cryptography'\n",
    "        !python3 -m pip install xmltodict\n",
    "        !python3 -m pip install requests\n",
    "        import xmltodict\n",
    "        import requests\n",
    "        from Steg.logge_inn_idporten import hent_idtoken, base64_decode_response, decode_dokument\n",
    "        from portalmelding import valider_melding\n"
   ]
  },
  {
   "cell_type": "markdown",
   "metadata": {},
   "source": [
    "## Generer ID-porten token\n",
    "Tokenet er gyldig i 300 sekunder, rekjørt denne biten om du ikke har kommet frem til validering biten før 300 sekunder "
   ]
  },
  {
   "cell_type": "code",
   "execution_count": null,
   "metadata": {
    "scrolled": true
   },
   "outputs": [],
   "source": [
    "idporten_header = hent_idtoken()"
   ]
  },
  {
   "cell_type": "markdown",
   "metadata": {},
   "source": [
    "### Valider tjeneste"
   ]
  },
  {
   "cell_type": "code",
   "execution_count": null,
   "metadata": {},
   "outputs": [],
   "source": [
    "melding_xml = f\"\"\"\n",
    "<?xml version=\"1.1\" encoding=\"UTF-8\"?>\n",
    "<mvaMeldingDto xmlns=\"no:skatteetaten:fastsetting:avgift:mva:skattemeldingformerverdiavgift:v0.9\">\n",
    "<innsending>\n",
    "<regnskapssystemsreferanse>3</regnskapssystemsreferanse>\n",
    "<regnskapssystem>\n",
    "<systemnavn>zzx</systemnavn>\n",
    "<systemversjon>4.34.3</systemversjon>\n",
    "</regnskapssystem>\n",
    "<innsender>\n",
    "<norskIdentifikator>02067623456</norskIdentifikator>\n",
    "</innsender>\n",
    "<innsendingTidspunkt>2022-05-26T21:35:47Z</innsendingTidspunkt>\n",
    "</innsending>\n",
    "<skattegrunnlagOgBeregnetSkatt>\n",
    "    <skattleggingsperiode>\n",
    "    <periode>\n",
    "    <skattleggingsperiodeToMaaneder>mars-april</skattleggingsperiodeToMaaneder>\n",
    "    </periode>\n",
    "    <aar>2022</aar>\n",
    "    </skattleggingsperiode>\n",
    "    <fastsattMerverdiavgift>5000</fastsattMerverdiavgift>\n",
    "    <mvaSpesifikasjonslinje>\n",
    "<mvaKode>3</mvaKode>\n",
    "<mvaKodeRegnskapsystem>25 utgående mva</mvaKodeRegnskapsystem>\n",
    "<grunnlag>20000</grunnlag>\n",
    "<sats>25</sats>\n",
    "<merverdiavgift>5000</merverdiavgift>\n",
    "</mvaSpesifikasjonslinje>\n",
    "</skattegrunnlagOgBeregnetSkatt>\n",
    "    <betalingsinformasjon>\n",
    "<kontonummerForTilbakebetaling>\n",
    "<norskKontonummer>999999999</norskKontonummer>\n",
    "</kontonummerForTilbakebetaling>\n",
    "<kundeIdentifikasjonsnummer>3400000932456870</kundeIdentifikasjonsnummer>\n",
    "</betalingsinformasjon>\n",
    "    <skattepliktig>\n",
    "<organisasjonsnummer>913238254</organisasjonsnummer>\n",
    "</skattepliktig>\n",
    "    <meldingskategori>alminnelig</meldingskategori>\n",
    "</mvaMeldingDto>\n",
    "\"\"\".replace(\"\\n\",\"\")\n",
    "\n",
    "s = requests.Session()\n",
    "s.headers = dict(idporten_header)\n",
    "req_valider = valider_melding(dict(idporten_header), xml=melding_xml)\n",
    "req_valider.status_code \n",
    "req_valider.content"
   ]
  },
  {
   "cell_type": "code",
   "execution_count": null,
   "metadata": {},
   "outputs": [],
   "source": []
  }
 ],
 "metadata": {
  "kernelspec": {
   "name": "pycharm-c322c35b",
   "language": "python",
   "display_name": "PyCharm (mva-melding-ekstern-doks)"
  },
  "language_info": {
   "codemirror_mode": {
    "name": "ipython",
    "version": 3
   },
   "file_extension": ".py",
   "mimetype": "text/x-python",
   "name": "python",
   "nbconvert_exporter": "python",
   "pygments_lexer": "ipython3",
   "version": "3.9.1"
  }
 },
 "nbformat": 4,
 "nbformat_minor": 4
}